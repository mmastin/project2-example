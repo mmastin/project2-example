{
 "cells": [
  {
   "cell_type": "code",
   "execution_count": 3,
   "metadata": {},
   "outputs": [
    {
     "name": "stdout",
     "output_type": "stream",
     "text": [
      "Collecting dash==1.0.0\n",
      "\u001b[?25l  Downloading https://files.pythonhosted.org/packages/e1/28/c1669c7173cb4b6df44a39122d0e6667cb7eb4a42ca9fa4c3ebd5b90dced/dash-1.0.0.tar.gz (54kB)\n",
      "\u001b[K    100% |████████████████████████████████| 61kB 1.3MB/s ta 0:00:011\n",
      "\u001b[?25hRequirement already satisfied: Flask>=0.12 in /Users/mattmastin/anaconda3/lib/python3.7/site-packages (from dash==1.0.0) (1.0.2)\n",
      "Collecting flask-compress (from dash==1.0.0)\n",
      "  Downloading https://files.pythonhosted.org/packages/0e/2a/378bd072928f6d92fd8c417d66b00c757dc361c0405a46a0134de6fd323d/Flask-Compress-1.4.0.tar.gz\n",
      "Requirement already satisfied: plotly in /Users/mattmastin/anaconda3/lib/python3.7/site-packages (from dash==1.0.0) (3.9.0)\n",
      "Collecting dash_renderer==1.0.0 (from dash==1.0.0)\n",
      "\u001b[?25l  Downloading https://files.pythonhosted.org/packages/c4/b2/59bfd95cce1c105fd70666eaa703b2040a4e039071b95238e9ef9c34eebc/dash_renderer-1.0.0.tar.gz (2.3MB)\n",
      "\u001b[K    100% |████████████████████████████████| 2.3MB 2.4MB/s ta 0:00:01\n",
      "\u001b[?25hCollecting dash-core-components==1.0.0 (from dash==1.0.0)\n",
      "\u001b[?25l  Downloading https://files.pythonhosted.org/packages/a5/cd/e16679d871dd629cf42e6f7a80ae9204e4f06ba92d4ae8a0bafec1355ec5/dash_core_components-1.0.0.tar.gz (2.1MB)\n",
      "\u001b[K    100% |████████████████████████████████| 2.1MB 1.4MB/s ta 0:00:01\n",
      "\u001b[?25hCollecting dash-html-components==1.0.0 (from dash==1.0.0)\n",
      "\u001b[?25l  Downloading https://files.pythonhosted.org/packages/7b/91/d0d575b98b5c27094ae557cceb0eed331235abb9910b3bf37407ca888052/dash_html_components-1.0.0.tar.gz (182kB)\n",
      "\u001b[K    100% |████████████████████████████████| 184kB 7.6MB/s ta 0:00:01\n",
      "\u001b[?25hCollecting dash-table==4.0.0 (from dash==1.0.0)\n",
      "\u001b[?25l  Downloading https://files.pythonhosted.org/packages/48/5e/0b9ded2f4be786463ee8abe1ac98bc2fe853e22f3e0c2793227464b85013/dash_table-4.0.0.tar.gz (538kB)\n",
      "\u001b[K    100% |████████████████████████████████| 542kB 2.1MB/s ta 0:00:01\n",
      "\u001b[?25hRequirement already satisfied: pytest in /Users/mattmastin/anaconda3/lib/python3.7/site-packages (from dash==1.0.0) (4.3.1)\n",
      "Collecting pytest-sugar (from dash==1.0.0)\n",
      "  Downloading https://files.pythonhosted.org/packages/da/3b/f1e3c8830860c1df8f0e0f6713932475141210cfa021e362ca2774d2bf02/pytest_sugar-0.9.2-py2.py3-none-any.whl\n",
      "Collecting pytest-mock (from dash==1.0.0)\n",
      "  Downloading https://files.pythonhosted.org/packages/30/43/8deecb4c123bbc16d25666f1a6d241109c97aeb2e50806b952661c8e4b95/pytest_mock-1.10.4-py2.py3-none-any.whl\n",
      "Requirement already satisfied: lxml in /Users/mattmastin/anaconda3/lib/python3.7/site-packages (from dash==1.0.0) (4.3.2)\n",
      "Collecting selenium (from dash==1.0.0)\n",
      "\u001b[?25l  Downloading https://files.pythonhosted.org/packages/80/d6/4294f0b4bce4de0abf13e17190289f9d0613b0a44e5dd6a7f5ca98459853/selenium-3.141.0-py2.py3-none-any.whl (904kB)\n",
      "\u001b[K    100% |████████████████████████████████| 911kB 1.5MB/s ta 0:00:01\n",
      "\u001b[?25hCollecting percy (from dash==1.0.0)\n",
      "  Downloading https://files.pythonhosted.org/packages/d6/39/528e689e21baa4d625cecc326c0d56c976d63855f9d114c07ccaed8a73eb/percy-2.0.2-py2.py3-none-any.whl\n",
      "Requirement already satisfied: requests[security] in /Users/mattmastin/anaconda3/lib/python3.7/site-packages (from dash==1.0.0) (2.21.0)\n",
      "Requirement already satisfied: beautifulsoup4 in /Users/mattmastin/anaconda3/lib/python3.7/site-packages (from dash==1.0.0) (4.7.1)\n",
      "Collecting waitress (from dash==1.0.0)\n",
      "\u001b[?25l  Downloading https://files.pythonhosted.org/packages/41/e0/366785e4b9b4d212df4c3b084153bf7f5e5ab355928f5465144e5fc98494/waitress-1.3.0-py2.py3-none-any.whl (141kB)\n",
      "\u001b[K    100% |████████████████████████████████| 143kB 3.0MB/s ta 0:00:01\n",
      "\u001b[?25hRequirement already satisfied: Werkzeug>=0.14 in /Users/mattmastin/anaconda3/lib/python3.7/site-packages (from Flask>=0.12->dash==1.0.0) (0.14.1)\n",
      "Requirement already satisfied: Jinja2>=2.10 in /Users/mattmastin/anaconda3/lib/python3.7/site-packages (from Flask>=0.12->dash==1.0.0) (2.10)\n",
      "Requirement already satisfied: click>=5.1 in /Users/mattmastin/anaconda3/lib/python3.7/site-packages (from Flask>=0.12->dash==1.0.0) (7.0)\n",
      "Requirement already satisfied: itsdangerous>=0.24 in /Users/mattmastin/anaconda3/lib/python3.7/site-packages (from Flask>=0.12->dash==1.0.0) (1.1.0)\n",
      "Requirement already satisfied: six in /Users/mattmastin/anaconda3/lib/python3.7/site-packages (from plotly->dash==1.0.0) (1.12.0)\n",
      "Requirement already satisfied: nbformat>=4.2 in /Users/mattmastin/anaconda3/lib/python3.7/site-packages (from plotly->dash==1.0.0) (4.4.0)\n",
      "Requirement already satisfied: retrying>=1.3.3 in /Users/mattmastin/anaconda3/lib/python3.7/site-packages (from plotly->dash==1.0.0) (1.3.3)\n",
      "Requirement already satisfied: decorator>=4.0.6 in /Users/mattmastin/anaconda3/lib/python3.7/site-packages (from plotly->dash==1.0.0) (4.4.0)\n",
      "Requirement already satisfied: pytz in /Users/mattmastin/anaconda3/lib/python3.7/site-packages (from plotly->dash==1.0.0) (2018.9)\n",
      "Requirement already satisfied: py>=1.5.0 in /Users/mattmastin/anaconda3/lib/python3.7/site-packages (from pytest->dash==1.0.0) (1.8.0)\n",
      "Requirement already satisfied: setuptools in /Users/mattmastin/anaconda3/lib/python3.7/site-packages (from pytest->dash==1.0.0) (40.8.0)\n",
      "Requirement already satisfied: attrs>=17.4.0 in /Users/mattmastin/anaconda3/lib/python3.7/site-packages (from pytest->dash==1.0.0) (19.1.0)\n",
      "Requirement already satisfied: atomicwrites>=1.0 in /Users/mattmastin/anaconda3/lib/python3.7/site-packages (from pytest->dash==1.0.0) (1.3.0)\n",
      "Requirement already satisfied: pluggy>=0.7 in /Users/mattmastin/anaconda3/lib/python3.7/site-packages (from pytest->dash==1.0.0) (0.9.0)\n",
      "Requirement already satisfied: more-itertools>=4.0.0 in /Users/mattmastin/anaconda3/lib/python3.7/site-packages (from pytest->dash==1.0.0) (6.0.0)\n",
      "Collecting termcolor>=1.1.0 (from pytest-sugar->dash==1.0.0)\n",
      "  Downloading https://files.pythonhosted.org/packages/8a/48/a76be51647d0eb9f10e2a4511bf3ffb8cc1e6b14e9e4fab46173aa79f981/termcolor-1.1.0.tar.gz\n",
      "Requirement already satisfied: packaging>=14.1 in /Users/mattmastin/anaconda3/lib/python3.7/site-packages (from pytest-sugar->dash==1.0.0) (19.0)\n",
      "Requirement already satisfied: urllib3 in /Users/mattmastin/anaconda3/lib/python3.7/site-packages (from selenium->dash==1.0.0) (1.24.1)\n",
      "Requirement already satisfied: chardet<3.1.0,>=3.0.2 in /Users/mattmastin/anaconda3/lib/python3.7/site-packages (from requests[security]->dash==1.0.0) (3.0.4)\n",
      "Requirement already satisfied: idna<2.9,>=2.5 in /Users/mattmastin/anaconda3/lib/python3.7/site-packages (from requests[security]->dash==1.0.0) (2.8)\n",
      "Requirement already satisfied: certifi>=2017.4.17 in /Users/mattmastin/anaconda3/lib/python3.7/site-packages (from requests[security]->dash==1.0.0) (2019.3.9)\n",
      "Requirement already satisfied: cryptography>=1.3.4; extra == \"security\" in /Users/mattmastin/anaconda3/lib/python3.7/site-packages (from requests[security]->dash==1.0.0) (2.6.1)\n",
      "Requirement already satisfied: pyOpenSSL>=0.14; extra == \"security\" in /Users/mattmastin/anaconda3/lib/python3.7/site-packages (from requests[security]->dash==1.0.0) (19.0.0)\n",
      "Requirement already satisfied: soupsieve>=1.2 in /Users/mattmastin/anaconda3/lib/python3.7/site-packages (from beautifulsoup4->dash==1.0.0) (1.8)\n",
      "Requirement already satisfied: MarkupSafe>=0.23 in /Users/mattmastin/anaconda3/lib/python3.7/site-packages (from Jinja2>=2.10->Flask>=0.12->dash==1.0.0) (1.1.1)\n",
      "Requirement already satisfied: jsonschema!=2.5.0,>=2.4 in /Users/mattmastin/anaconda3/lib/python3.7/site-packages (from nbformat>=4.2->plotly->dash==1.0.0) (3.0.1)\n",
      "Requirement already satisfied: traitlets>=4.1 in /Users/mattmastin/anaconda3/lib/python3.7/site-packages (from nbformat>=4.2->plotly->dash==1.0.0) (4.3.2)\n",
      "Requirement already satisfied: ipython-genutils in /Users/mattmastin/anaconda3/lib/python3.7/site-packages (from nbformat>=4.2->plotly->dash==1.0.0) (0.2.0)\n",
      "Requirement already satisfied: jupyter-core in /Users/mattmastin/anaconda3/lib/python3.7/site-packages (from nbformat>=4.2->plotly->dash==1.0.0) (4.4.0)\n",
      "Requirement already satisfied: pyparsing>=2.0.2 in /Users/mattmastin/anaconda3/lib/python3.7/site-packages (from packaging>=14.1->pytest-sugar->dash==1.0.0) (2.3.1)\n",
      "Requirement already satisfied: cffi!=1.11.3,>=1.8 in /Users/mattmastin/anaconda3/lib/python3.7/site-packages (from cryptography>=1.3.4; extra == \"security\"->requests[security]->dash==1.0.0) (1.12.2)\n",
      "Requirement already satisfied: asn1crypto>=0.21.0 in /Users/mattmastin/anaconda3/lib/python3.7/site-packages (from cryptography>=1.3.4; extra == \"security\"->requests[security]->dash==1.0.0) (0.24.0)\n",
      "Requirement already satisfied: pyrsistent>=0.14.0 in /Users/mattmastin/anaconda3/lib/python3.7/site-packages (from jsonschema!=2.5.0,>=2.4->nbformat>=4.2->plotly->dash==1.0.0) (0.14.11)\n",
      "Requirement already satisfied: pycparser in /Users/mattmastin/anaconda3/lib/python3.7/site-packages (from cffi!=1.11.3,>=1.8->cryptography>=1.3.4; extra == \"security\"->requests[security]->dash==1.0.0) (2.19)\n",
      "Building wheels for collected packages: dash, flask-compress, dash-renderer, dash-core-components, dash-html-components, dash-table, termcolor\n"
     ]
    },
    {
     "name": "stdout",
     "output_type": "stream",
     "text": [
      "  Building wheel for dash (setup.py) ... \u001b[?25ldone\n",
      "\u001b[?25h  Stored in directory: /Users/mattmastin/Library/Caches/pip/wheels/0c/b5/c6/1879fa3b7e9646ac46c2bfaa2ff7f33fc1a2fd94b71ff78eb0\n",
      "  Building wheel for flask-compress (setup.py) ... \u001b[?25ldone\n",
      "\u001b[?25h  Stored in directory: /Users/mattmastin/Library/Caches/pip/wheels/96/32/88/a1f6d9dd3c29570ab3a8acc0d556b3b20abcf3c623c868ce0a\n",
      "  Building wheel for dash-renderer (setup.py) ... \u001b[?25ldone\n",
      "\u001b[?25h  Stored in directory: /Users/mattmastin/Library/Caches/pip/wheels/e1/ec/40/f23ca8bba2cc56ffb3a279a660d1df7c6e1fa2557a664b660c\n",
      "  Building wheel for dash-core-components (setup.py) ... \u001b[?25ldone\n",
      "\u001b[?25h  Stored in directory: /Users/mattmastin/Library/Caches/pip/wheels/4c/fa/04/dc1340493d92d3fe3c906be9155c4ed750e003578328998ff8\n",
      "  Building wheel for dash-html-components (setup.py) ... \u001b[?25ldone\n",
      "\u001b[?25h  Stored in directory: /Users/mattmastin/Library/Caches/pip/wheels/a4/37/96/cb58a2cadbe39fd074c3cace280a576f6ea860a4bdf1703763\n",
      "  Building wheel for dash-table (setup.py) ... \u001b[?25ldone\n",
      "\u001b[?25h  Stored in directory: /Users/mattmastin/Library/Caches/pip/wheels/61/5b/a3/e064923e462a8af12affa93b522a61b745f754d1fccfb26c4b\n",
      "  Building wheel for termcolor (setup.py) ... \u001b[?25ldone\n",
      "\u001b[?25h  Stored in directory: /Users/mattmastin/Library/Caches/pip/wheels/7c/06/54/bc84598ba1daf8f970247f550b175aaaee85f68b4b0c5ab2c6\n",
      "Successfully built dash flask-compress dash-renderer dash-core-components dash-html-components dash-table termcolor\n",
      "Installing collected packages: flask-compress, dash-renderer, dash-core-components, dash-html-components, dash-table, termcolor, pytest-sugar, pytest-mock, selenium, percy, waitress, dash\n",
      "Successfully installed dash-1.0.0 dash-core-components-1.0.0 dash-html-components-1.0.0 dash-renderer-1.0.0 dash-table-4.0.0 flask-compress-1.4.0 percy-2.0.2 pytest-mock-1.10.4 pytest-sugar-0.9.2 selenium-3.141.0 termcolor-1.1.0 waitress-1.3.0\n",
      "Collecting dash-daq==0.1.0\n",
      "\u001b[?25l  Downloading https://files.pythonhosted.org/packages/8c/90/6c1405732316ad625ad6c6498d222a8ab8ef6183b2b60d8688b272bbe727/dash_daq-0.1.0.tar.gz (775kB)\n",
      "\u001b[K    100% |████████████████████████████████| 778kB 5.7MB/s ta 0:00:01\n",
      "\u001b[?25hBuilding wheels for collected packages: dash-daq\n",
      "  Building wheel for dash-daq (setup.py) ... \u001b[?25ldone\n",
      "\u001b[?25h  Stored in directory: /Users/mattmastin/Library/Caches/pip/wheels/c0/ed/73/bf2186ecfdc110a63a45ec69b8fc0e2ad1fcc7e442dac1225d\n",
      "Successfully built dash-daq\n",
      "Installing collected packages: dash-daq\n",
      "Successfully installed dash-daq-0.1.0\n"
     ]
    }
   ],
   "source": [
    "# !pip install dash==1.0.0\n",
    "# !pip install dash-daq==0.1.0"
   ]
  },
  {
   "cell_type": "code",
   "execution_count": 5,
   "metadata": {},
   "outputs": [],
   "source": [
    "import pandas as pd\n",
    "\n",
    "df = pd.read_csv('https://raw.githubusercontent.com/mmastin/Datasets/master/2017-Census-Tract-Data-Clean.csv')"
   ]
  },
  {
   "cell_type": "code",
   "execution_count": 6,
   "metadata": {},
   "outputs": [],
   "source": [
    "columns = ['Service',\n",
    "          'Production',\n",
    "          'Unemployment',\n",
    "          'MeanCommute',\n",
    "          'Poverty',\n",
    "          'Professional',\n",
    "          'Income']"
   ]
  },
  {
   "cell_type": "code",
   "execution_count": 7,
   "metadata": {},
   "outputs": [],
   "source": [
    "df = df[columns]"
   ]
  },
  {
   "cell_type": "code",
   "execution_count": 9,
   "metadata": {},
   "outputs": [],
   "source": [
    "import category_encoders as ce\n",
    "from joblib import dump, load\n",
    "import numpy as np\n",
    "from sklearn.pipeline import make_pipeline\n",
    "from xgboost import XGBRegressor\n",
    "\n",
    "X = df.drop(columns='Income')\n",
    "y = df['Income']\n",
    "\n",
    "pipeline = make_pipeline(ce.OneHotEncoder(use_cat_names=True),\n",
    "                        XGBRegressor(n_estimators=1000, n_jobs=-1))\n",
    "\n",
    "pipeline.fit(X, y)\n",
    "dump(pipeline, 'pipeline.joblib')\n",
    "\n",
    "df.to_csv('Census-Data-Small-Pipeline.csv', index=False)"
   ]
  },
  {
   "cell_type": "code",
   "execution_count": null,
   "metadata": {},
   "outputs": [],
   "source": []
  }
 ],
 "metadata": {
  "kernelspec": {
   "display_name": "Python 3",
   "language": "python",
   "name": "python3"
  },
  "language_info": {
   "codemirror_mode": {
    "name": "ipython",
    "version": 3
   },
   "file_extension": ".py",
   "mimetype": "text/x-python",
   "name": "python",
   "nbconvert_exporter": "python",
   "pygments_lexer": "ipython3",
   "version": "3.7.3"
  }
 },
 "nbformat": 4,
 "nbformat_minor": 2
}
